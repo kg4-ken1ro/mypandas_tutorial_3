{
  "nbformat": 4,
  "nbformat_minor": 0,
  "metadata": {
    "colab": {
      "provenance": [],
      "toc_visible": true,
      "mount_file_id": "11DCql2ywzSPRh4LUqpwqbRefrBmEc0tV",
      "authorship_tag": "ABX9TyP3rI9ygH0JApXv0PnNYKLf",
      "include_colab_link": true
    },
    "kernelspec": {
      "name": "python3",
      "display_name": "Python 3"
    },
    "language_info": {
      "name": "python"
    }
  },
  "cells": [
    {
      "cell_type": "markdown",
      "metadata": {
        "id": "view-in-github",
        "colab_type": "text"
      },
      "source": [
        "<a href=\"https://colab.research.google.com/github/kg4-ken1ro/mypandas_tutorial_3/blob/main/study_tutorial_3.ipynb\" target=\"_parent\"><img src=\"https://colab.research.google.com/assets/colab-badge.svg\" alt=\"Open In Colab\"/></a>"
      ]
    },
    {
      "cell_type": "code",
      "execution_count": null,
      "metadata": {
        "id": "L-njrcN1rzWA"
      },
      "outputs": [],
      "source": [
        "%matplotlib inline\n",
        "import warnings\n",
        "import numpy as np\n",
        "import pandas as pd\n",
        "import xgboost as xgb\n",
        "import matplotlib.pylab as plt\n",
        "\n",
        "from sklearn.metrics import accuracy_score\n",
        "from sklearn.model_selection import StratifiedKFold\n",
        "\n",
        "warnings.filterwarnings('ignore')"
      ]
    },
    {
      "cell_type": "code",
      "source": [
        "def validate(train_x, train_y):\n",
        "  accuracies = []\n",
        "  feature_importances = []\n",
        "\n",
        "  cv = StratifiedKFold(n_splits=3, shuffle=True, random_state=0)\n",
        "  for train_idx, test_idx in cv.split(train_x, train_y):\n",
        "    trn_x =train_x.iloc[train_idx, :]\n",
        "    val_x = train_x.iloc[test_idx, :]\n",
        "\n",
        "    trn_y = train_y.iloc[train_idx]\n",
        "    val_y = train_y.iloc[test_idx]\n",
        "\n",
        "    clf = xgb.XGBClassifier()\n",
        "    clf.fit(trn_x, trn_y)\n",
        "\n",
        "    pred_y = clf.predict(val_x)\n",
        "    feature_importances.append(clf.feature_importances_)\n",
        "    accuracies.append(accuracy_score(val_y, pred_y))\n",
        "  print(np.mean(accuracies))\n",
        "  return accuracies, feature_importances"
      ],
      "metadata": {
        "id": "HcV6mcSFtEtq"
      },
      "execution_count": null,
      "outputs": []
    },
    {
      "cell_type": "code",
      "source": [
        "def plot_feature_importances(feature_importances, cols):\n",
        "  df_fimp = pd.DataFrame(feature_importances, columns=cols)\n",
        "  df_fimp.plot(kind=\"box\", rot=90)"
      ],
      "metadata": {
        "id": "t-Hk1GiZu7uF"
      },
      "execution_count": null,
      "outputs": []
    },
    {
      "cell_type": "code",
      "source": [
        "def preprocess_df(df):\n",
        "  #CabinはこのあとDropするので、コードから削除\n",
        "  df[\"Age\"] = df[\"Age\"].fillna(df[\"Age\"].mean())\n",
        "  df[\"Embarked\"] = df[\"Embarked\"].fillna(df[\"Embarked\"].mode())\n",
        "  #FamilySize列を作成\n",
        "  df[\"FamilySize\"] = df[\"SibSp\"] + df[\"Parch\"] + 1\n",
        "\n",
        "  #列の削除\n",
        "  df.drop([\"Name\", \"Ticket\", \"Cabin\", \"PassengerId\"], axis=1, inplace=True)\n",
        "\n",
        "  #Sexを0と1に置換とEmbarkedのダミー化\n",
        "  df[\"Sex\"] = df[\"Sex\"].replace({\"male\": 0, \"female\": 1})\n",
        "  df = pd.get_dummies(df)\n",
        "\n",
        "  #Parch, SibSpが0の人、FamilySizeが１の場合Flagを立てる\n",
        "  #[1 if val == 0 else 0 for val in df[列名]]の部分はリスト内包表記\n",
        "  df[\"None_Parch\"] = [1 if val == 0 else 0 for val in df[\"Parch\"]]\n",
        "  df[\"None_SibSp\"] = [1 if val == 0 else 0 for val in df[\"SibSp\"]]\n",
        "  df[\"None_Family\"] = [1 if val == 1 else 0 for val in df[\"FamilySize\"]]\n",
        "\n",
        "  #0-10歳は生存者が多いかも\n",
        "  df[\"Flag_Children\"] = [1 if val < 11 else 0 for val in df[\"Age\"]]\n",
        "  \n",
        "  return df"
      ],
      "metadata": {
        "id": "fjzy-vb1vYCh"
      },
      "execution_count": null,
      "outputs": []
    },
    {
      "cell_type": "code",
      "source": [
        "#testデータのpredict\n",
        "def predict_df(train_x, train_y, test_x, df_test_raw,path_output=\"result.csv\"):\n",
        "  clf = xgb.XGBClassifier()\n",
        "  clf.fit(train_x, train_y)\n",
        "  preds = clf.predict(test_x)\n",
        "\n",
        "  _df = pd.DataFrame()\n",
        "  _df[\"PassengerId\"] = df_test_raw[\"PassengerId\"]\n",
        "  _df[\"Survived\"] = preds\n",
        "  _df.to_csv(path_output, index=False)"
      ],
      "metadata": {
        "id": "dTsrSsCUwu0N"
      },
      "execution_count": null,
      "outputs": []
    },
    {
      "cell_type": "code",
      "source": [
        "#デバッグするときはmain関数から外して、直接叩く方が楽\n",
        "def main():\n",
        "  df_train = pd.read_csv(\"drive/My Drive/train.csv\")\n",
        "\n",
        "  #前処理\n",
        "  train_y = df_train[\"Survived\"]\n",
        "  train_x = df_train.drop(\"Survived\", axis=1)\n",
        "  \n",
        "  train_x = preprocess_df(train_x)\n",
        "  accuracies, feature_importances = validate(train_x, train_y)\n",
        "  plot_feature_importances(feature_importances, train_x.columns)\n",
        "\n",
        "  flag_product = True\n",
        "  if flag_product:\n",
        "    df_test = pd.read_csv(\"drive/My Drive/test.csv\")#colabの場合、driveをマウントするのを忘れない\n",
        "    df_test_raw = df_test.copy()\n",
        "    test_x = preprocess_df(df_test)\n",
        "    predict_df(train_x, train_y, test_x, df_test_raw, \"result.csv\")\n",
        "\n",
        "#`if __name__ == '__main__':` はおまじないのようなモノと思ってください。\n",
        "if __name__ == '__main__':\n",
        "  main()"
      ],
      "metadata": {
        "colab": {
          "base_uri": "https://localhost:8080/",
          "height": 527
        },
        "id": "KaWXch1axu0y",
        "outputId": "6f8874b1-8146-4364-863e-509d71cd4cff"
      },
      "execution_count": null,
      "outputs": [
        {
          "output_type": "stream",
          "name": "stdout",
          "text": [
            "0.8058361391694726\n"
          ]
        },
        {
          "output_type": "display_data",
          "data": {
            "text/plain": [
              "<Figure size 640x480 with 1 Axes>"
            ],
            "image/png": "[encoded data removed]"
          },
          "metadata": {}
        }
      ]
    }
  ]
}